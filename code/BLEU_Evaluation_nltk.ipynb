{
 "cells": [
  {
   "cell_type": "markdown",
   "metadata": {},
   "source": [
    "This is an imported implementation of bleu translation evaluation. "
   ]
  },
  {
   "cell_type": "code",
   "execution_count": 5,
   "metadata": {},
   "outputs": [],
   "source": [
    "import os\n",
    "from nltk.translate.bleu_score import corpus_bleu"
   ]
  },
  {
   "cell_type": "code",
   "execution_count": 6,
   "metadata": {},
   "outputs": [],
   "source": [
    "translated_folder = 'undreamt/data/Evaluation/x86_zlib_translated'\n",
    "reference_folder = 'undreamt/data/Evaluation/x86_zlib'"
   ]
  },
  {
   "cell_type": "code",
   "execution_count": 7,
   "metadata": {},
   "outputs": [],
   "source": [
    "import os\n",
    "from nltk.translate.bleu_score import corpus_bleu\n",
    "\n",
    "def evaluate_translation(translated_folder, reference_folder):\n",
    "    translated_files = os.listdir(translated_folder)\n",
    "    reference_files = os.listdir(reference_folder)\n",
    "\n",
    "    # Initialize lists to store the translated and reference sentences\n",
    "    translated_sentences = []\n",
    "    reference_sentences = []\n",
    "\n",
    "    # Iterate over the files in the translated folder\n",
    "    for file_name in translated_files:\n",
    "        # Read the translated file\n",
    "        with open(os.path.join(translated_folder, file_name), 'r') as f:\n",
    "            translated_sentence = f.read().strip().split()\n",
    "            translated_sentences.append(translated_sentence)\n",
    "\n",
    "        # Read the corresponding reference file\n",
    "        with open(os.path.join(reference_folder, file_name), 'r') as f:\n",
    "            reference_sentence = f.read().strip().split()\n",
    "            reference_sentences.append([reference_sentence])\n",
    "\n",
    "    # Truncate or pad the sentences to match the lengths\n",
    "    num_sentences = min(len(translated_sentences), len(reference_sentences))\n",
    "    translated_sentences = translated_sentences[:num_sentences]\n",
    "    reference_sentences = reference_sentences[:num_sentences]\n",
    "\n",
    "    # Calculate the BLEU score\n",
    "    bleu_score = corpus_bleu(reference_sentences, translated_sentences)\n",
    "\n",
    "    return bleu_score"
   ]
  },
  {
   "cell_type": "code",
   "execution_count": 8,
   "metadata": {},
   "outputs": [
    {
     "name": "stdout",
     "output_type": "stream",
     "text": [
      "BLEU score: 0.1754\n"
     ]
    }
   ],
   "source": [
    "def main():\n",
    "    bleu_score = evaluate_translation(translated_folder, reference_folder)\n",
    "    print(f\"BLEU score: {bleu_score:.4f}\")\n",
    "\n",
    "\n",
    "if __name__ == \"__main__\":\n",
    "    main()\n"
   ]
  }
 ],
 "metadata": {
  "kernelspec": {
   "display_name": "torch",
   "language": "python",
   "name": "python3"
  },
  "language_info": {
   "codemirror_mode": {
    "name": "ipython",
    "version": 3
   },
   "file_extension": ".py",
   "mimetype": "text/x-python",
   "name": "python",
   "nbconvert_exporter": "python",
   "pygments_lexer": "ipython3",
   "version": "3.10.13"
  }
 },
 "nbformat": 4,
 "nbformat_minor": 2
}

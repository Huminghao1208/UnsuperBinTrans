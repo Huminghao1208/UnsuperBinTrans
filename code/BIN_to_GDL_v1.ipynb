{
 "cells": [
  {
   "cell_type": "code",
   "execution_count": null,
   "metadata": {},
   "outputs": [],
   "source": [
    "import argparse\n",
    "import os"
   ]
  },
  {
   "cell_type": "code",
   "execution_count": null,
   "metadata": {},
   "outputs": [],
   "source": [
    "def is_cleanup(name):\n",
    "\treturn name.endswith('.i64') or name.endswith('.idb') or name.endswith('.id0') or name.endswith('.id1')or name.endswith('.nam') or name.endswith('.til')\n",
    "  \n",
    "def main():\n",
    "\n",
    "\tparser = argparse.ArgumentParser(description='Generate GDLs/Function level assembly code from binaries')\n",
    "\tparser.add_argument('--input_path', help='the input folder with binaries')\n",
    "\tparser.add_argument('--output_path', help='the output folder where GDLs are generated')\n",
    "\n",
    "\targs = parser.parse_args()\n",
    "\tbase_dir=os.getcwd()\n",
    "\targs.input_path=os.join.path(base_dir,\"input_binary\") \n",
    "    \n",
    "\tinput_path = args.input_path\n",
    "\toutput_path = args.output_path\n",
    "\n",
    "\tif not os.path.exists(output_path):\n",
    "\t\tos.makedirs(output_path)\n",
    "\tinput_names = os.listdir(input_path)\n",
    "\n",
    "\t#run script against all files\n",
    "\tfor name in input_names:\n",
    "\t\ttarget_file = input_path+\"/\"+name\n",
    "\t\tos.system(\"ida64 -c -A -SgetBBs.idc \" + target_file)\n",
    "\t\t#os.system(\"ida64 -c -A -SgetBBs.idc \" + target_file)\n",
    "\n",
    "\t# housekeeping\n",
    "\t# Delete ida database files and move the .gdl to raw_BB directory\n",
    "\toutput_names = os.listdir(input_path)\n",
    "\tfor name in output_names:\n",
    "\t\tif is_cleanup(name):\n",
    "\t\t\ttarget_file = input_path+\"/\"+name\n",
    "\t\t\tos.remove(target_file)\n",
    "\t\telif name.endswith('.gdl'):\n",
    "\t\t\tmove_from = input_path+\"/\"+name\n",
    "\t\t\tmove_to = output_path+\"/\"+name\n",
    "\t\t\tos.rename(move_from, move_to)\n",
    "\n",
    "if __name__ == \"__main__\":\n",
    "\tmain()\n"
   ]
  }
 ],
 "metadata": {
  "kernelspec": {
   "display_name": "torch",
   "language": "python",
   "name": "python3"
  },
  "language_info": {
   "codemirror_mode": {
    "name": "ipython",
    "version": 3
   },
   "file_extension": ".py",
   "mimetype": "text/x-python",
   "name": "python",
   "nbconvert_exporter": "python",
   "pygments_lexer": "ipython3",
   "version": "3.10.13"
  }
 },
 "nbformat": 4,
 "nbformat_minor": 2
}

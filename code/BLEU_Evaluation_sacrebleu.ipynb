{
 "cells": [
  {
   "cell_type": "markdown",
   "metadata": {},
   "source": [
    "This is an imported implementation of bleu translation evaluation. "
   ]
  },
  {
   "cell_type": "code",
   "execution_count": 17,
   "metadata": {},
   "outputs": [],
   "source": [
    "import os\n",
    "import sacrebleu"
   ]
  },
  {
   "cell_type": "code",
   "execution_count": 18,
   "metadata": {},
   "outputs": [],
   "source": [
    "translated_texts_dir = 'undreamt/data/Evaluation/x86_zlib_translated'\n",
    "reference_texts_dir = 'undreamt/data/Evaluation/x86_zlib'"
   ]
  },
  {
   "cell_type": "code",
   "execution_count": 19,
   "metadata": {},
   "outputs": [],
   "source": [
    "# Function to read a file's content\n",
    "def read_file(file_path):\n",
    "    with open(file_path, 'r', encoding='utf-8') as file:\n",
    "        return file.readlines()"
   ]
  },
  {
   "cell_type": "code",
   "execution_count": 20,
   "metadata": {},
   "outputs": [
    {
     "ename": "NameError",
     "evalue": "name 'all_translations' is not defined",
     "output_type": "error",
     "traceback": [
      "\u001b[0;31m---------------------------------------------------------------------------\u001b[0m",
      "\u001b[0;31mNameError\u001b[0m                                 Traceback (most recent call last)",
      "Cell \u001b[0;32mIn[20], line 19\u001b[0m\n\u001b[1;32m     16\u001b[0m         all_references\u001b[38;5;241m.\u001b[39mappend([reference_text])  \u001b[38;5;66;03m# Note the inner list for reference texts\u001b[39;00m\n\u001b[1;32m     18\u001b[0m \u001b[38;5;66;03m# Calculate the BLEU score for all translations against their corresponding references\u001b[39;00m\n\u001b[0;32m---> 19\u001b[0m average_bleu_score \u001b[38;5;241m=\u001b[39m sacrebleu\u001b[38;5;241m.\u001b[39mcorpus_bleu(\u001b[43mall_translations\u001b[49m, all_references)\u001b[38;5;241m.\u001b[39mscore\n\u001b[1;32m     21\u001b[0m \u001b[38;5;66;03m# Print the average BLEU score\u001b[39;00m\n\u001b[1;32m     22\u001b[0m \u001b[38;5;28mprint\u001b[39m(\u001b[38;5;124mf\u001b[39m\u001b[38;5;124m\"\u001b[39m\u001b[38;5;124mAverage BLEU score across all files: \u001b[39m\u001b[38;5;132;01m{\u001b[39;00maverage_bleu_score\u001b[38;5;132;01m:\u001b[39;00m\u001b[38;5;124m.2f\u001b[39m\u001b[38;5;132;01m}\u001b[39;00m\u001b[38;5;124m\"\u001b[39m)\n",
      "\u001b[0;31mNameError\u001b[0m: name 'all_translations' is not defined"
     ]
    }
   ],
   "source": [
    "def main():\n",
    "    \n",
    "    all_translations = []\n",
    "    all_references = []\n",
    "    # Iterate over each file in the translated texts directory\n",
    "    for translated_file_name in os.listdir(translated_texts_dir):\n",
    "    # Construct the paths to the translated and reference files\n",
    "        translated_file_path = os.path.join(translated_texts_dir, translated_file_name)\n",
    "        reference_file_path = os.path.join(reference_texts_dir, translated_file_name)\n",
    "        \n",
    "        # Read the contents of the files and add to the lists\n",
    "        translated_text = read_file(translated_file_path)\n",
    "        reference_text = read_file(reference_file_path)\n",
    "        \n",
    "        all_translations.append(translated_text)\n",
    "        all_references.append([reference_text])  # Note the inner list for reference texts\n",
    "\n",
    "# Calculate the BLEU score for all translations against their corresponding references\n",
    "average_bleu_score = sacrebleu.corpus_bleu(all_translations, all_references).score\n",
    "\n",
    "# Print the average BLEU score\n",
    "print(f\"Average BLEU score across all files: {average_bleu_score:.2f}\")\n",
    "\n",
    "if __name__ == \"__main__\":\n",
    "    main()\n"
   ]
  }
 ],
 "metadata": {
  "kernelspec": {
   "display_name": "torch",
   "language": "python",
   "name": "python3"
  },
  "language_info": {
   "codemirror_mode": {
    "name": "ipython",
    "version": 3
   },
   "file_extension": ".py",
   "mimetype": "text/x-python",
   "name": "python",
   "nbconvert_exporter": "python",
   "pygments_lexer": "ipython3",
   "version": "3.10.13"
  }
 },
 "nbformat": 4,
 "nbformat_minor": 2
}

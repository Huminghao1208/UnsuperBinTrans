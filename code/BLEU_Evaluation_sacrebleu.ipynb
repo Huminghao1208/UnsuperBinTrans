{
 "cells": [
  {
   "cell_type": "markdown",
   "metadata": {},
   "source": [
    "This is an imported implementation of bleu translation evaluation. "
   ]
  },
  {
   "cell_type": "code",
   "execution_count": 11,
   "metadata": {},
   "outputs": [
    {
     "name": "stdout",
     "output_type": "stream",
     "text": [
      "Average BLEU score across all files: 87.69\n"
     ]
    }
   ],
   "source": [
    "import os\n",
    "import sacrebleu\n",
    "\n",
    "# Define the directories for translated and reference texts\n",
    "translated_texts_dir = 'undreamt/data/Evaluation/x86_zlib_translated'\n",
    "reference_texts_dir = 'undreamt/data/Evaluation/x86_zlib'\n",
    "\n",
    "# Function to read a file's content\n",
    "def read_file(file_path):\n",
    "    with open(file_path, 'r', encoding='utf-8') as file:\n",
    "        return file.read().strip()\n",
    "\n",
    "# Lists to store all translations and their corresponding references\n",
    "all_translations = []\n",
    "all_references = []\n",
    "\n",
    "# Iterate over each file in the translated texts directory\n",
    "for translated_file_name in os.listdir(translated_texts_dir):\n",
    "    # Construct the paths to the translated and reference files\n",
    "    translated_file_path = os.path.join(translated_texts_dir, translated_file_name)\n",
    "    reference_file_path = os.path.join(reference_texts_dir, translated_file_name)\n",
    "    \n",
    "    # Read the contents of the files and add to the lists\n",
    "    translated_text = read_file(translated_file_path)\n",
    "    reference_text = read_file(reference_file_path)\n",
    "    \n",
    "    all_translations.append(translated_text)\n",
    "    all_references.append([reference_text])  # Note the inner list for reference texts\n",
    "\n",
    "# Calculate the BLEU score for all translations against their corresponding references\n",
    "average_bleu_score = sacrebleu.corpus_bleu(all_translations, all_references,tokenize='none').score\n",
    "\n",
    "# Print the average BLEU score\n",
    "print(f\"Average BLEU score across all files: {average_bleu_score:.2f}\")\n"
   ]
  }
 ],
 "metadata": {
  "kernelspec": {
   "display_name": "torch",
   "language": "python",
   "name": "python3"
  },
  "language_info": {
   "codemirror_mode": {
    "name": "ipython",
    "version": 3
   },
   "file_extension": ".py",
   "mimetype": "text/x-python",
   "name": "python",
   "nbconvert_exporter": "python",
   "pygments_lexer": "ipython3",
   "version": "3.10.13"
  }
 },
 "nbformat": 4,
 "nbformat_minor": 2
}

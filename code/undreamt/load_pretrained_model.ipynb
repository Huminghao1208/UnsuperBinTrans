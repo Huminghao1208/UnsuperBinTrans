{
 "cells": [
  {
   "cell_type": "code",
   "execution_count": 95,
   "metadata": {},
   "outputs": [],
   "source": [
    "import json\n",
    "import random\n",
    "import argparse\n",
    "from logging import getLogger\n",
    "import torch\n",
    "from torch import nn"
   ]
  },
  {
   "cell_type": "code",
   "execution_count": 96,
   "metadata": {},
   "outputs": [],
   "source": [
    "delete_set={'embeddings.weight','pred_layer.proj.weight','pred_layer.proj.bias'}\n",
    "model_path=\"model/arm32_to_x86.it400.src2trg.pth\""
   ]
  },
  {
   "cell_type": "code",
   "execution_count": 97,
   "metadata": {},
   "outputs": [],
   "source": [
    "def load_model(model_path):\n",
    "    model=torch.load(model_path)\n",
    "    return model"
   ]
  },
  {
   "cell_type": "code",
   "execution_count": 98,
   "metadata": {},
   "outputs": [
    {
     "name": "stdout",
     "output_type": "stream",
     "text": [
      "Encoder parameters:\n",
      "special_embeddings.weight \t torch.Size([5, 64])\n",
      "rnn.weight_ih_l0 \t torch.Size([900, 64])\n",
      "rnn.weight_hh_l0 \t torch.Size([900, 300])\n",
      "rnn.bias_ih_l0 \t torch.Size([900])\n",
      "rnn.bias_hh_l0 \t torch.Size([900])\n",
      "rnn.weight_ih_l0_reverse \t torch.Size([900, 64])\n",
      "rnn.weight_hh_l0_reverse \t torch.Size([900, 300])\n",
      "rnn.bias_ih_l0_reverse \t torch.Size([900])\n",
      "rnn.bias_hh_l0_reverse \t torch.Size([900])\n",
      "rnn.weight_ih_l1 \t torch.Size([900, 600])\n",
      "rnn.weight_hh_l1 \t torch.Size([900, 300])\n",
      "rnn.bias_ih_l1 \t torch.Size([900])\n",
      "rnn.bias_hh_l1 \t torch.Size([900])\n",
      "rnn.weight_ih_l1_reverse \t torch.Size([900, 600])\n",
      "rnn.weight_hh_l1_reverse \t torch.Size([900, 300])\n",
      "rnn.bias_ih_l1_reverse \t torch.Size([900])\n",
      "rnn.bias_hh_l1_reverse \t torch.Size([900])\n",
      "\n",
      "Decoder parameters:\n",
      "special_embeddings.weight \t torch.Size([5, 64])\n",
      "attention.linear_align.weight \t torch.Size([600, 600])\n",
      "attention.linear_context.weight \t torch.Size([600, 600])\n",
      "attention.linear_query.weight \t torch.Size([600, 600])\n",
      "stacked_rnn.layers.0.weight_ih \t torch.Size([1800, 664])\n",
      "stacked_rnn.layers.0.weight_hh \t torch.Size([1800, 600])\n",
      "stacked_rnn.layers.0.bias_ih \t torch.Size([1800])\n",
      "stacked_rnn.layers.0.bias_hh \t torch.Size([1800])\n",
      "stacked_rnn.layers.1.weight_ih \t torch.Size([1800, 600])\n",
      "stacked_rnn.layers.1.weight_hh \t torch.Size([1800, 600])\n",
      "stacked_rnn.layers.1.bias_ih \t torch.Size([1800])\n",
      "stacked_rnn.layers.1.bias_hh \t torch.Size([1800])\n",
      "\n",
      "Encoder embedding parameters:\n",
      "weight \t torch.Size([99, 64])\n",
      "\n",
      "Decoder embedding parameters:\n",
      "weight \t torch.Size([94, 64])\n"
     ]
    },
    {
     "ename": "",
     "evalue": "",
     "output_type": "error",
     "traceback": [
      "\u001b[1;31mThe Kernel crashed while executing code in the current cell or a previous cell. \n",
      "\u001b[1;31mPlease review the code in the cell(s) to identify a possible cause of the failure. \n",
      "\u001b[1;31mClick <a href='https://aka.ms/vscodeJupyterKernelCrash'>here</a> for more info. \n",
      "\u001b[1;31mView Jupyter <a href='command:jupyter.viewOutput'>log</a> for further details."
     ]
    }
   ],
   "source": [
    "def main():\n",
    "    model=load_model(model_path)\n",
    "    print(\"Encoder parameters:\")\n",
    "    for name, param in model.encoder.named_parameters():\n",
    "        print(name, \"\\t\", param.size())\n",
    "    \n",
    "    # Access decoder parameters\n",
    "    print(\"\\nDecoder parameters:\")\n",
    "    for name, param in model.decoder.named_parameters():\n",
    "        print(name, \"\\t\", param.size())\n",
    "    \n",
    "    # Access encoder embedding parameters\n",
    "    print(\"\\nEncoder embedding parameters:\")\n",
    "    for name, param in model.encoder_embeddings.named_parameters():\n",
    "        print(name, \"\\t\", param.size())\n",
    "    \n",
    "    # Access decoder embedding parameters\n",
    "    print(\"\\nDecoder embedding parameters:\")\n",
    "    for name, param in model.decoder_embeddings.named_parameters():\n",
    "        print(name, \"\\t\", param.size())\n",
    "    # for item in dir(model):\n",
    "    #     print(item)\n",
    "    #encoder_emb=model[encoder_embeddings]\n",
    "    #print(encoder_emb)\n",
    "\n",
    "if __name__ == '__main__':\n",
    "    main()"
   ]
  },
  {
   "cell_type": "markdown",
   "metadata": {},
   "source": [
    "The result for all the parameters in \"mlm_enfr__1024.pth\""
   ]
  }
 ],
 "metadata": {
  "kernelspec": {
   "display_name": "torch",
   "language": "python",
   "name": "python3"
  },
  "language_info": {
   "codemirror_mode": {
    "name": "ipython",
    "version": 3
   },
   "file_extension": ".py",
   "mimetype": "text/x-python",
   "name": "python",
   "nbconvert_exporter": "python",
   "pygments_lexer": "ipython3",
   "version": "3.10.13"
  }
 },
 "nbformat": 4,
 "nbformat_minor": 2
}

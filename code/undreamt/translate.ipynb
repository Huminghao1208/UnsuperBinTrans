{
 "cells": [
  {
   "cell_type": "code",
   "execution_count": null,
   "metadata": {
    "vscode": {
     "languageId": "plaintext"
    }
   },
   "outputs": [],
   "source": [
    "import argparse\n",
    "import sys\n",
    "import torch"
   ]
  },
  {
   "cell_type": "code",
   "execution_count": null,
   "metadata": {
    "vscode": {
     "languageId": "plaintext"
    }
   },
   "outputs": [],
   "source": [
    "def main():\n",
    "    # Parse command line arguments\n",
    "    parser = argparse.ArgumentParser(description='Translate using a pre-trained model')\n",
    "    parser.add_argument('model', help='a model previously trained with train.py')\n",
    "    parser.add_argument('--batch_size', type=int, default=50, help='the batch size (defaults to 50)')\n",
    "    parser.add_argument('--beam_size', type=int, default=12, help='the beam size (defaults to 12, 0 for greedy search)')\n",
    "    parser.add_argument('--encoding', default='utf-8', help='the character encoding for input/output (defaults to utf-8)')\n",
    "    parser.add_argument('-i', '--input', default=sys.stdin.fileno(), help='the input file (defaults to stdin)')\n",
    "    parser.add_argument('-o', '--output', default=sys.stdout.fileno(), help='the output file (defaults to stdout)')\n",
    "    args = parser.parse_args()\n",
    "\n",
    "    # Load model\n",
    "    translator = torch.load(args.model)\n",
    "\n",
    "    # Translate sentences\n",
    "    end = False\n",
    "    fin = open(args.input, encoding=args.encoding, errors='surrogateescape')\n",
    "    fout = open(args.output, mode='w', encoding=args.encoding, errors='surrogateescape')\n",
    "    while not end:\n",
    "        batch = []\n",
    "        while len(batch) < args.batch_size and not end:\n",
    "            line = fin.readline()\n",
    "            if not line:\n",
    "                end = True\n",
    "            else:\n",
    "                batch.append(line)\n",
    "        if args.beam_size <= 0 and len(batch) > 0:\n",
    "            for translation in translator.greedy(batch, train=False):\n",
    "                print(translation, file=fout)\n",
    "        elif len(batch) > 0:\n",
    "            for translation in translator.beam_search(batch, train=False, beam_size=args.beam_size):\n",
    "                print(translation, file=fout)\n",
    "        fout.flush()\n",
    "    fin.close()\n",
    "    fout.close()\n",
    "\n",
    "if __name__ == '__main__':\n",
    "    main()    "
   ]
  }
 ],
 "metadata": {
  "kernelspec": {
   "display_name": "torch",
   "language": "python",
   "name": "python3"
  },
  "language_info": {
   "codemirror_mode": {
    "name": "ipython",
    "version": 3
   },
   "file_extension": ".py",
   "mimetype": "text/x-python",
   "name": "python",
   "nbconvert_exporter": "python",
   "pygments_lexer": "ipython3",
   "version": "3.10.13"
  }
 },
 "nbformat": 4,
 "nbformat_minor": 2
}

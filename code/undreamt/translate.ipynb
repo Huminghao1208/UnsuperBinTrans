{
 "cells": [
  {
   "cell_type": "code",
   "execution_count": 1,
   "metadata": {},
   "outputs": [],
   "source": [
    "import argparse\n",
    "import sys\n",
    "import torch"
   ]
  },
  {
   "cell_type": "code",
   "execution_count": 2,
   "metadata": {},
   "outputs": [
    {
     "name": "stderr",
     "output_type": "stream",
     "text": [
      "/home/mhu20/Downloads/UnsuperBinTrans/code/undreamt/undreamt/translator.py:59: UserWarning: volatile was removed and now has no effect. Use `with torch.no_grad():` instead.\n",
      "  varids = self.device(Variable(torch.LongTensor(ids), requires_grad=False, volatile=not train))\n",
      "/home/mhu20/Downloads/UnsuperBinTrans/code/undreamt/undreamt/attention.py:45: UserWarning: masked_fill_ received a mask with dtype torch.uint8, this behavior is now deprecated,please use a mask with dtype torch.bool instead. (Triggered internally at /home/conda/feedstock_root/build_artifacts/pytorch-recipe_1673730874951/work/aten/src/ATen/native/cuda/Indexing.cu:1435.)\n",
      "  align.data.masked_fill_(mask, -float('inf'))\n"
     ]
    },
    {
     "ename": "",
     "evalue": "",
     "output_type": "error",
     "traceback": [
      "\u001b[1;31mThe Kernel crashed while executing code in the current cell or a previous cell. \n",
      "\u001b[1;31mPlease review the code in the cell(s) to identify a possible cause of the failure. \n",
      "\u001b[1;31mClick <a href='https://aka.ms/vscodeJupyterKernelCrash'>here</a> for more info. \n",
      "\u001b[1;31mView Jupyter <a href='command:jupyter.viewOutput'>log</a> for further details."
     ]
    }
   ],
   "source": [
    "def main():\n",
    "    # Parse command line arguments\n",
    "    parser = argparse.ArgumentParser(description='Translate using a pre-trained model')\n",
    "    parser.add_argument('--model', help='a model previously trained with train.py')\n",
    "    parser.add_argument('--batch_size', type=int, default=50, help='the batch size (defaults to 50)')\n",
    "    parser.add_argument('--beam_size', type=int, default=12, help='the beam size (defaults to 12, 0 for greedy search)')\n",
    "    parser.add_argument('--encoding', default='utf-8', help='the character encoding for input/output (defaults to utf-8)')\n",
    "    parser.add_argument('-i', '--input', default=sys.stdin.fileno(), help='the input file (defaults to stdin)')\n",
    "    parser.add_argument('-o', '--output', default=sys.stdout.fileno(), help='the output file (defaults to stdout)')\n",
    "    args = parser.parse_args(args=[])\n",
    "\n",
    "    args.batch_size=128\n",
    "    args.model=\"model/arm32_to_x86.it400.src2trg.pth\"\n",
    "    args.input=\"data/arm32_corpus/arm32\"\n",
    "    args.output=\"data/output_translate\"\n",
    "\n",
    "    # Load model\n",
    "    translator = torch.load(args.model)\n",
    "\n",
    "    # Translate sentences\n",
    "    end = False\n",
    "    fin = open(args.input, encoding=args.encoding, errors='surrogateescape')\n",
    "    fout = open(args.output, mode='w', encoding=args.encoding, errors='surrogateescape')\n",
    "    while not end:\n",
    "        batch = []\n",
    "        while len(batch) < args.batch_size and not end:\n",
    "            line = fin.readline()\n",
    "            if not line:\n",
    "                end = True\n",
    "            else:\n",
    "                batch.append(line)\n",
    "        if args.beam_size <= 0 and len(batch) > 0:\n",
    "            for translation in translator.greedy(batch, train=False):\n",
    "                print(translation, file=fout)\n",
    "        elif len(batch) > 0:\n",
    "            for translation in translator.beam_search(batch, train=False, beam_size=args.beam_size):\n",
    "                print(translation, file=fout)\n",
    "        fout.flush()\n",
    "    fin.close()\n",
    "    fout.close()\n",
    "\n",
    "if __name__ == '__main__':\n",
    "    main()    "
   ]
  }
 ],
 "metadata": {
  "kernelspec": {
   "display_name": "torch",
   "language": "python",
   "name": "python3"
  },
  "language_info": {
   "codemirror_mode": {
    "name": "ipython",
    "version": 3
   },
   "file_extension": ".py",
   "mimetype": "text/x-python",
   "name": "python",
   "nbconvert_exporter": "python",
   "pygments_lexer": "ipython3",
   "version": "3.10.13"
  }
 },
 "nbformat": 4,
 "nbformat_minor": 2
}

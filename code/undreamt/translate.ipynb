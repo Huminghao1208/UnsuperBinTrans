{
 "cells": [
  {
   "cell_type": "code",
   "execution_count": 5,
   "metadata": {},
   "outputs": [],
   "source": [
    "import argparse\n",
    "import sys\n",
    "import torch"
   ]
  },
  {
   "cell_type": "code",
   "execution_count": 6,
   "metadata": {},
   "outputs": [
    {
     "name": "stderr",
     "output_type": "stream",
     "text": [
      "usage: ipykernel_launcher.py [-h] [--model MODEL] [--batch_size BATCH_SIZE]\n",
      "                             [--beam_size BEAM_SIZE] [--encoding ENCODING]\n",
      "                             [-i INPUT] [-o OUTPUT]\n",
      "ipykernel_launcher.py: error: unrecognized arguments: --f=/home/mhu20/.local/share/jupyter/runtime/kernel-v2-4707AGQN54GjvTTP.json\n"
     ]
    },
    {
     "ename": "SystemExit",
     "evalue": "2",
     "output_type": "error",
     "traceback": [
      "An exception has occurred, use %tb to see the full traceback.\n",
      "\u001b[0;31mSystemExit\u001b[0m\u001b[0;31m:\u001b[0m 2\n"
     ]
    }
   ],
   "source": [
    "def main():\n",
    "    # Parse command line arguments\n",
    "    parser = argparse.ArgumentParser(description='Translate using a pre-trained model')\n",
    "    parser.add_argument('--model', help='a model previously trained with train.py')\n",
    "    parser.add_argument('--batch_size', type=int, default=50, help='the batch size (defaults to 50)')\n",
    "    parser.add_argument('--beam_size', type=int, default=12, help='the beam size (defaults to 12, 0 for greedy search)')\n",
    "    parser.add_argument('--encoding', default='utf-8', help='the character encoding for input/output (defaults to utf-8)')\n",
    "    parser.add_argument('-i', '--input', default=sys.stdin.fileno(), help='the input file (defaults to stdin)')\n",
    "    parser.add_argument('-o', '--output', default=sys.stdout.fileno(), help='the output file (defaults to stdout)')\n",
    "    args = parser.parse_args(args=[])\n",
    "\n",
    "    args.batch_size=128\n",
    "    args.model=\"model/arm32_to_x86.it400.src2trg.pth\"\n",
    "    args.input=\"data/arm32_corpus/arm32\"\n",
    "    args.output=\"data/output_translate\"\n",
    "\n",
    "    # Load model\n",
    "    translator = torch.load(args.model)\n",
    "\n",
    "    # Translate sentences\n",
    "    end = False\n",
    "    fin = open(args.input, encoding=args.encoding, errors='surrogateescape')\n",
    "    fout = open(args.output, mode='w', encoding=args.encoding, errors='surrogateescape')\n",
    "    while not end:\n",
    "        batch = []\n",
    "        while len(batch) < args.batch_size and not end:\n",
    "            line = fin.readline()\n",
    "            if not line:\n",
    "                end = True\n",
    "            else:\n",
    "                batch.append(line)\n",
    "        if args.beam_size <= 0 and len(batch) > 0:\n",
    "            for translation in translator.greedy(batch, train=False):\n",
    "                print(translation, file=fout)\n",
    "        elif len(batch) > 0:\n",
    "            for translation in translator.beam_search(batch, train=False, beam_size=args.beam_size):\n",
    "                print(translation, file=fout)\n",
    "        fout.flush()\n",
    "    fin.close()\n",
    "    fout.close()\n",
    "\n",
    "if __name__ == '__main__':\n",
    "    main()    "
   ]
  }
 ],
 "metadata": {
  "kernelspec": {
   "display_name": "torch",
   "language": "python",
   "name": "python3"
  },
  "language_info": {
   "codemirror_mode": {
    "name": "ipython",
    "version": 3
   },
   "file_extension": ".py",
   "mimetype": "text/x-python",
   "name": "python",
   "nbconvert_exporter": "python",
   "pygments_lexer": "ipython3",
   "version": "3.10.13"
  }
 },
 "nbformat": 4,
 "nbformat_minor": 2
}

{
 "cells": [
  {
   "cell_type": "code",
   "execution_count": 5,
   "metadata": {},
   "outputs": [],
   "source": [
    "import os"
   ]
  },
  {
   "cell_type": "code",
   "execution_count": 6,
   "metadata": {},
   "outputs": [],
   "source": [
    "x86_folder = \"data/Evaluation/x86_reference\"\n",
    "arm_folder = \"data/Evaluation/x86_translated\"\n",
    "# Get the list of files in the x86 folder\n",
    "x86_files = os.listdir(x86_folder)\n",
    "# Get the list of files in the arm folder\n",
    "arm_files = os.listdir(arm_folder)"
   ]
  },
  {
   "cell_type": "code",
   "execution_count": 7,
   "metadata": {},
   "outputs": [],
   "source": [
    "files_to_delete = []\n",
    "\n",
    "for file in arm_files:\n",
    "    # Check if the file exists in the x86 folder\n",
    "    file_path = os.path.join(arm_folder, file)\n",
    "    with open(file_path, 'r', encoding='utf-8') as filename:\n",
    "        file_content = filename.read()\n",
    "    if file_content == \"\":\n",
    "        files_to_delete.append(file_path)\n",
    "    if file not in x86_files:\n",
    "        # Mark the file for deletion from the arm folder if it doesn't exist in x86\n",
    "        files_to_delete.append(file_path)\n",
    "\n",
    "# Delete the files marked for deletion from the arm folder\n",
    "for file_path in files_to_delete:\n",
    "    if os.path.exists(file_path):\n",
    "        os.remove(file_path)\n",
    "\n",
    "# Iterate over the files in the x86 folder\n",
    "for file in x86_files:\n",
    "    file_path = os.path.join(x86_folder, file)\n",
    "    with open(file_path, 'r', encoding='utf-8') as filename:\n",
    "        file_content = filename.read()\n",
    "    if file_content == \"\":\n",
    "        os.remove(file_path)\n",
    "    # Check if the file exists in the arm folder\n",
    "    if file not in arm_files:\n",
    "        # Delete the file from the x86 folder if it doesn't exist in arm\n",
    "        file_path = os.path.join(x86_folder, file)\n",
    "        if os.path.exists(file_path):\n",
    "            os.remove(file_path)\n",
    "\n",
    "for file in os.listdir(arm_folder):\n",
    "    print(file)"
   ]
  },
  {
   "cell_type": "code",
   "execution_count": 8,
   "metadata": {},
   "outputs": [],
   "source": [
    "# for file in arm_files:\n",
    "#     # Check if the file exists in the x86 folder\n",
    "#     file_path=os.path.join(arm_folder,file)\n",
    "#     with open(file_path,'r',encoding='utf-8') as filename:\n",
    "#         file_content=filename.read()\n",
    "#         if(file_content==\"\"):  \n",
    "#             os.remove(file_path)\n",
    "#     if file not in x86_files:\n",
    "#         # Delete the file from the arm folder if it doesn't exist in x86\n",
    "#         file_path = os.path.join(arm_folder, file)\n",
    "#         os.remove(file_path)\n",
    "\n",
    "# # Iterate over the files in the x86 folder\n",
    "# for file in x86_files:\n",
    "#     file_path=os.path.join(x86_folder,file)\n",
    "#     with open(file_path,'r',encoding='utf-8') as filename:\n",
    "#         file_content=filename.read()\n",
    "#         if(file_content==\"\"):  \n",
    "#             os.remove(file_path)\n",
    "#     # Check if the file exists in the arm folder\n",
    "#     if file not in arm_files:\n",
    "#         # Delete the file from the x86 folder if it doesn't exist in arm\n",
    "#         file_path = os.path.join(x86_folder, file)\n",
    "#         os.remove(file_path)\n",
    "# for file in arm_files:\n",
    "#     print(file)"
   ]
  }
 ],
 "metadata": {
  "kernelspec": {
   "display_name": "torch",
   "language": "python",
   "name": "python3"
  },
  "language_info": {
   "codemirror_mode": {
    "name": "ipython",
    "version": 3
   },
   "file_extension": ".py",
   "mimetype": "text/x-python",
   "name": "python",
   "nbconvert_exporter": "python",
   "pygments_lexer": "ipython3",
   "version": "3.10.13"
  }
 },
 "nbformat": 4,
 "nbformat_minor": 2
}
